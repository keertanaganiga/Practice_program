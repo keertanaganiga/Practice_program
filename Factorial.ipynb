{
  "nbformat": 4,
  "nbformat_minor": 0,
  "metadata": {
    "colab": {
      "name": "Factorial.ipynb",
      "provenance": [],
      "authorship_tag": "ABX9TyMeTMXJbNgVkuomSAgd+z1K",
      "include_colab_link": true
    },
    "kernelspec": {
      "name": "python3",
      "display_name": "Python 3"
    },
    "language_info": {
      "name": "python"
    }
  },
  "cells": [
    {
      "cell_type": "markdown",
      "metadata": {
        "id": "view-in-github",
        "colab_type": "text"
      },
      "source": [
        "<a href=\"https://colab.research.google.com/github/keertanaganiga/Practice_program/blob/main/Factorial.ipynb\" target=\"_parent\"><img src=\"https://colab.research.google.com/assets/colab-badge.svg\" alt=\"Open In Colab\"/></a>"
      ]
    },
    {
      "cell_type": "code",
      "metadata": {
        "id": "XZtUiZsZs3HN",
        "colab": {
          "base_uri": "https://localhost:8080/"
        },
        "outputId": "422b9ef1-825e-41ae-9a4f-a6a2b553076d"
      },
      "source": [
        "'''\n",
        "Factorial\n",
        "Write a program to determine whether 'n' is a factorial number or not. Factorial of a number is the product of all positive numbers from 1 to 'n'.\n",
        "\n",
        "Input format:\n",
        "\n",
        "The input containing an integer 'n' which denotes the given number.\n",
        "\n",
        "Output format:\n",
        "\n",
        "If the given number is factorial, print \"Yes\". Otherwise, print \"No\". Refer the sample output for formatting.\n",
        "\n",
        "Sample Input:\n",
        "\n",
        "6\n",
        "\n",
        "Sample Output:\n",
        "\n",
        "Yes\n",
        "'''\n",
        "\n",
        "n=int(input())\n",
        "i=1\n",
        "fact=1\n",
        "while (n!=0):\n",
        "  fact=fact*i\n",
        "  if n==fact:\n",
        "    flag=1\n",
        "    break\n",
        "  if n<fact:\n",
        "    flag=0\n",
        "    break\n",
        "  i=i+1\n",
        "\n",
        "if flag==1:\n",
        "  print(\"Yes\")\n",
        "else:\n",
        "  print(\"No\")"
      ],
      "execution_count": 1,
      "outputs": [
        {
          "output_type": "stream",
          "text": [
            "25\n",
            "No\n"
          ],
          "name": "stdout"
        }
      ]
    }
  ]
}