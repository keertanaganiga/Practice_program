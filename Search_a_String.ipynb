{
  "nbformat": 4,
  "nbformat_minor": 0,
  "metadata": {
    "colab": {
      "name": "Search a String.ipynb",
      "provenance": [],
      "authorship_tag": "ABX9TyOwZRY5n4/+Q3QVjALu1Z95",
      "include_colab_link": true
    },
    "kernelspec": {
      "name": "python3",
      "display_name": "Python 3"
    },
    "language_info": {
      "name": "python"
    }
  },
  "cells": [
    {
      "cell_type": "markdown",
      "metadata": {
        "id": "view-in-github",
        "colab_type": "text"
      },
      "source": [
        "<a href=\"https://colab.research.google.com/github/keertanaganiga/Practice_program/blob/main/Search_a_String.ipynb\" target=\"_parent\"><img src=\"https://colab.research.google.com/assets/colab-badge.svg\" alt=\"Open In Colab\"/></a>"
      ]
    },
    {
      "cell_type": "code",
      "metadata": {
        "id": "MxB7CD54zJFs"
      },
      "source": [
        "'''\n",
        "Search a String\n",
        "Asgard is in danger. Thor and Loki are looking for clues to save their world. Luckily they got a part of the clue. You are provided with 2 strings. The first string is the actual clue and the second string is the part of a clue that they have. Help Thor and Loki by searching the second string occurrence in the first string irrespective of cases using Regex in Python.\n",
        "\n",
        "Sample Input:\n",
        "\n",
        "I love Asgard\n",
        "\n",
        "asgard\n",
        "\n",
        "Sample Output:\n",
        "\n",
        "String Found\n",
        "\n",
        "\n",
        "'''\n",
        "import re\n",
        "str1=input()\n",
        "str2=input()\n",
        "\n",
        "x=re.search(str2,str1,re.IGNORECASE)\n",
        "\n",
        "if x:\n",
        "  print(\"String Found\")\n",
        "else:\n",
        "  print(\"String Not Found\")"
      ],
      "execution_count": null,
      "outputs": []
    }
  ]
}