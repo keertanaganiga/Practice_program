{
  "nbformat": 4,
  "nbformat_minor": 0,
  "metadata": {
    "colab": {
      "name": "Age Detector17.ipynb",
      "provenance": [],
      "authorship_tag": "ABX9TyPH4auFdH0GXsa9S2/3DDC4",
      "include_colab_link": true
    },
    "kernelspec": {
      "name": "python3",
      "display_name": "Python 3"
    },
    "language_info": {
      "name": "python"
    }
  },
  "cells": [
    {
      "cell_type": "markdown",
      "metadata": {
        "id": "view-in-github",
        "colab_type": "text"
      },
      "source": [
        "<a href=\"https://colab.research.google.com/github/keertanaganiga/Practice_program/blob/main/Age_Detector17.ipynb\" target=\"_parent\"><img src=\"https://colab.research.google.com/assets/colab-badge.svg\" alt=\"Open In Colab\"/></a>"
      ]
    },
    {
      "cell_type": "code",
      "metadata": {
        "colab": {
          "base_uri": "https://localhost:8080/"
        },
        "id": "hMJKwdFqR9AI",
        "outputId": "39bac894-5834-4588-e0cd-3a1d54db98d5"
      },
      "source": [
        "'''\n",
        "Age Detector\n",
        "Ask a user for their birth year encoded as two digits (like \"62\") and for the current year, also encoded as two digits (like \"99\"). Write a python program to find the users current age in years.\n",
        "\n",
        "﻿Input format:\n",
        "\n",
        "Input consists of 2 integers\n",
        "\n",
        "The first integer corresponds to the last 2 digits of the birth year\n",
        "\n",
        "The second integer corresponds to the last 2 digits of the current year\n",
        "\n",
        "Output format:\n",
        "\n",
        "Print the user's current age\n",
        "\n",
        "Refer below sample output for formatting.\n",
        "\n",
        "Sample Input:\n",
        "\n",
        "62\n",
        "\n",
        "00\n",
        "\n",
        "Sample Output:\n",
        "\n",
        "38\n",
        "\n",
        "\n",
        "'''\n",
        "birth=int(input())\n",
        "current=int(input())\n",
        "if current<birth:\n",
        "  birth=100-birth\n",
        "  a=birth+current\n",
        "  print(a)\n",
        "else:\n",
        "  print(current-birth)\n",
        " \t\n",
        "  \n",
        "  \n"
      ],
      "execution_count": 1,
      "outputs": [
        {
          "output_type": "stream",
          "text": [
            "62\n",
            "00\n",
            "38\n"
          ],
          "name": "stdout"
        }
      ]
    }
  ]
}