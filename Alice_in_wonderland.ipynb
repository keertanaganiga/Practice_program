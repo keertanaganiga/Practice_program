{
  "nbformat": 4,
  "nbformat_minor": 0,
  "metadata": {
    "colab": {
      "name": "Alice in wonderland.ipynb",
      "provenance": [],
      "authorship_tag": "ABX9TyOrYazngO4+VGwuIBhKAiec",
      "include_colab_link": true
    },
    "kernelspec": {
      "name": "python3",
      "display_name": "Python 3"
    },
    "language_info": {
      "name": "python"
    }
  },
  "cells": [
    {
      "cell_type": "markdown",
      "metadata": {
        "id": "view-in-github",
        "colab_type": "text"
      },
      "source": [
        "<a href=\"https://colab.research.google.com/github/keertanaganiga/Practice_program/blob/main/Alice_in_wonderland.ipynb\" target=\"_parent\"><img src=\"https://colab.research.google.com/assets/colab-badge.svg\" alt=\"Open In Colab\"/></a>"
      ]
    },
    {
      "cell_type": "code",
      "metadata": {
        "id": "AOsoGVd5ckhQ",
        "colab": {
          "base_uri": "https://localhost:8080/"
        },
        "outputId": "9ff4e94a-5ec6-44e1-8fe1-d4e2d0e73564"
      },
      "source": [
        "'''\n",
        "Alice in wonderland\n",
        "Alice was bored that day,so she was sitting on the riverbank .Suddenly she notices a talking, White Rabbit with a pocket watch .It ran fast,and she followed it, down a rabbit hole .She fell into the hole and found a magical wonderland with dark trees, beautiful flowers.She found many ways numbered from 1,2,3,........18.she was confused which is the right way that will lead her to her home. She found a cute bird, standing in one of the tree. Alice asked the bird the way to go back to her home.The bird said a two digit number( say 23 ) and asked her to find the sum of its digits (2+3=5) and that numbered way will lead her to her home.Alice was already confused, so pls help Alice in finding the route to her home....\n",
        "\n",
        "\n",
        "\n",
        "Input Format:\n",
        "\n",
        "Input consists of an integer corresponding to the 2-digit number.\n",
        "\n",
        "\n",
        "\n",
        "Output Format:\n",
        "\n",
        "Output consists of an integer corresponding to the sum of its digits. Refer sample input and output for formatting specifications.\n",
        "\n",
        "\n",
        "\n",
        "Sample Input:\n",
        "\n",
        "23\n",
        "\n",
        "\n",
        "\n",
        "Sample Output:\n",
        "\n",
        "Alice must go in path-5\n",
        "'''\n",
        "\n",
        "n=int(input())\n",
        "b=n%10\n",
        "c=n/10\n",
        "a=int(c+b)\n",
        "print(\"Alice must go in path-{}\".format(a))"
      ],
      "execution_count": 1,
      "outputs": [
        {
          "output_type": "stream",
          "text": [
            "23\n",
            "Alice must go in path-5\n"
          ],
          "name": "stdout"
        }
      ]
    }
  ]
}