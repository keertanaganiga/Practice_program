{
  "nbformat": 4,
  "nbformat_minor": 0,
  "metadata": {
    "colab": {
      "name": "Extract numbers.ipynb",
      "provenance": [],
      "authorship_tag": "ABX9TyMViCAKDM74VpDLJaM1U5pT",
      "include_colab_link": true
    },
    "kernelspec": {
      "name": "python3",
      "display_name": "Python 3"
    },
    "language_info": {
      "name": "python"
    }
  },
  "cells": [
    {
      "cell_type": "markdown",
      "metadata": {
        "id": "view-in-github",
        "colab_type": "text"
      },
      "source": [
        "<a href=\"https://colab.research.google.com/github/keertanaganiga/Practice_program/blob/main/Extract_numbers.ipynb\" target=\"_parent\"><img src=\"https://colab.research.google.com/assets/colab-badge.svg\" alt=\"Open In Colab\"/></a>"
      ]
    },
    {
      "cell_type": "code",
      "metadata": {
        "id": "K3PEu4iQD_uh"
      },
      "source": [
        "'''\n",
        "Extract numbers\n",
        "You are provided with an URL. You are required to extract the digits present in the URL. Use Python - RegEx to solve this problem.\n",
        "\n",
        "Sample Input:\n",
        "\n",
        "https://www.google.com/search?q=google&oq=google&aqs=chrome..69i57j69i60l4j69i65l2j69i60.4365j0j4&sourceid=chrome&ie=UTF-8\n",
        "\n",
        "Sample Output:\n",
        "\n",
        "['69', '57', '69', '60', '4', '69', '65', '2', '69', '60', '4365', '0', '4', '8']\n",
        "'''\n",
        "\n",
        "import re\n",
        "url=input()\n",
        "r=re.findall(r'\\d+',url)\n",
        "print(r)"
      ],
      "execution_count": null,
      "outputs": []
    }
  ]
}