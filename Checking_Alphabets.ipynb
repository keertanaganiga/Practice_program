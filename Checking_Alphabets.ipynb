{
  "nbformat": 4,
  "nbformat_minor": 0,
  "metadata": {
    "colab": {
      "name": "Checking Alphabets.ipynb",
      "provenance": [],
      "authorship_tag": "ABX9TyMi9UueQun+co0pAi7Yk+T8",
      "include_colab_link": true
    },
    "kernelspec": {
      "name": "python3",
      "display_name": "Python 3"
    },
    "language_info": {
      "name": "python"
    }
  },
  "cells": [
    {
      "cell_type": "markdown",
      "metadata": {
        "id": "view-in-github",
        "colab_type": "text"
      },
      "source": [
        "<a href=\"https://colab.research.google.com/github/keertanaganiga/Practice_program/blob/main/Checking_Alphabets.ipynb\" target=\"_parent\"><img src=\"https://colab.research.google.com/assets/colab-badge.svg\" alt=\"Open In Colab\"/></a>"
      ]
    },
    {
      "cell_type": "code",
      "metadata": {
        "colab": {
          "base_uri": "https://localhost:8080/"
        },
        "id": "d1-JIpFO8jSY",
        "outputId": "cfbff483-d89d-4e6e-c4d4-fcc53670c09f"
      },
      "source": [
        "'''\n",
        "Checking Alphabets\n",
        "Write a python program to check whether the given character is vowel or consonant.\n",
        "\n",
        "Input format:\n",
        "\n",
        "The input consist of a character\n",
        "\n",
        "Output format:\n",
        "\n",
        "The output consists of a below-given string “Vowel” / “Consonant” / “Not an alphabet”\n",
        "\n",
        "Sample Input:\n",
        "\n",
        "a\n",
        "\n",
        "Sample Output:\n",
        "\n",
        "Vowel\n",
        "'''\n",
        "\n",
        "v=\"aeiouAEIOU\"\n",
        "c=\"bcdfghjklmnpqrstvwxyzBCDFGHJKLMNPQRSTVWXYZ\"\n",
        "x=input()\n",
        "if x in v:\n",
        "  print(\"Vowel\")\n",
        "elif x in c:\n",
        "  print(\"Consonant\")\n",
        "else:\n",
        "  print(\"Not an alphabet\")\n",
        "  "
      ],
      "execution_count": 1,
      "outputs": [
        {
          "output_type": "stream",
          "text": [
            "a\n",
            "Vowel\n"
          ],
          "name": "stdout"
        }
      ]
    }
  ]
}