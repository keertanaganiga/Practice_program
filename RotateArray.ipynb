{
  "nbformat": 4,
  "nbformat_minor": 0,
  "metadata": {
    "colab": {
      "name": "RotateArray.ipynb",
      "provenance": [],
      "authorship_tag": "ABX9TyOFqah+1Y0frCU1jkGj1OP+",
      "include_colab_link": true
    },
    "kernelspec": {
      "name": "python3",
      "display_name": "Python 3"
    },
    "language_info": {
      "name": "python"
    }
  },
  "cells": [
    {
      "cell_type": "markdown",
      "metadata": {
        "id": "view-in-github",
        "colab_type": "text"
      },
      "source": [
        "<a href=\"https://colab.research.google.com/github/keertanaganiga/Practice_program/blob/main/RotateArray.ipynb\" target=\"_parent\"><img src=\"https://colab.research.google.com/assets/colab-badge.svg\" alt=\"Open In Colab\"/></a>"
      ]
    },
    {
      "cell_type": "code",
      "metadata": {
        "id": "yKuIatkUNzJi",
        "colab": {
          "base_uri": "https://localhost:8080/"
        },
        "outputId": "fb390aa7-ac39-4ccd-cbbf-41162fee1913"
      },
      "source": [
        "'''\n",
        "Input: nums = [1,2,3,4,5,6,7], k = 3\n",
        "Output: [5,6,7,1,2,3,4]\n",
        "Explanation:\n",
        "rotate 1 steps to the right: [7,1,2,3,4,5,6]\n",
        "rotate 2 steps to the right: [6,7,1,2,3,4,5]\n",
        "rotate 3 steps to the right: [5,6,7,1,2,3,4]\n",
        "'''\n",
        "\n",
        "nums=[1,2,3,4,5,6,7]\n",
        "k=3\n",
        "n=7\n",
        "nums=list(reversed(nums))\n",
        "a1=nums[0:k]\n",
        "a1=list(reversed(a1))\n",
        "nums[0:k]=a1\n",
        "a2=nums[k:n-k]\n",
        "a2=list(reversed(a2))\n",
        "nums[k:n-k]=a2\n",
        "print(list(nums))"
      ],
      "execution_count": 7,
      "outputs": [
        {
          "output_type": "stream",
          "text": [
            "[5, 6, 7, 4, 3, 2, 1]\n"
          ],
          "name": "stdout"
        }
      ]
    }
  ]
}