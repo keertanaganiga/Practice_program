{
  "nbformat": 4,
  "nbformat_minor": 0,
  "metadata": {
    "colab": {
      "name": "Fee Collection.ipynb",
      "provenance": [],
      "authorship_tag": "ABX9TyOs1EIyfKuMQ5o1I0TSTNx+",
      "include_colab_link": true
    },
    "kernelspec": {
      "name": "python3",
      "display_name": "Python 3"
    },
    "language_info": {
      "name": "python"
    }
  },
  "cells": [
    {
      "cell_type": "markdown",
      "metadata": {
        "id": "view-in-github",
        "colab_type": "text"
      },
      "source": [
        "<a href=\"https://colab.research.google.com/github/keertanaganiga/Practice_program/blob/main/Fee_Collection.ipynb\" target=\"_parent\"><img src=\"https://colab.research.google.com/assets/colab-badge.svg\" alt=\"Open In Colab\"/></a>"
      ]
    },
    {
      "cell_type": "code",
      "metadata": {
        "colab": {
          "base_uri": "https://localhost:8080/"
        },
        "id": "yrZhxyFiE5PT",
        "outputId": "4447de93-41aa-4495-eba4-ee268b0cb656"
      },
      "source": [
        "'''\n",
        "ee Collection\n",
        "Write a python program to determine the fee amount to be collected from a student.\n",
        "\n",
        "Refer the table below for fee details.\n",
        ".\n",
        ".\n",
        ".\n",
        ".\n",
        ".\n",
        "\n",
        "\n",
        "Input format:\n",
        "\n",
        "The first input corresponds to the student type\n",
        "\n",
        "The second input corresponds to the tuition fee\n",
        "\n",
        "The third input corresponds to the bus fee\n",
        "\n",
        "The fourth input corresponds to the hostel fees\n",
        "\n",
        "Output format:\n",
        "\n",
        "Print the total fee amount of the corresponding student.\n",
        "\n",
        "Sample Input:\n",
        "\n",
        "MSH\n",
        "\n",
        "40000\n",
        "\n",
        "12000\n",
        "\n",
        "50000\n",
        "\n",
        "Sample Output:\n",
        "\n",
        "90000\n",
        "\n",
        "'''\n",
        "\n",
        "type=input()\n",
        "t=int(input())\n",
        "b=int(input())\n",
        "h=int(input())\n",
        "\n",
        "if type==\"MSDS\":\n",
        "  print(t+b)\n",
        "if type==\"MSH\":\n",
        "  print(t+h)\n",
        "if type==\"MGSDS\":\n",
        "  a=(150/100)*t\n",
        "  print(a+b)\n",
        "if type==\"MGSH\":\n",
        "  a=(150/100)*t\n",
        "  print(a+h)\n",
        "  "
      ],
      "execution_count": 2,
      "outputs": [
        {
          "output_type": "stream",
          "text": [
            "MSH\n",
            "40000\n",
            "12000\n",
            "50000\n",
            "90000\n"
          ],
          "name": "stdout"
        }
      ]
    }
  ]
}