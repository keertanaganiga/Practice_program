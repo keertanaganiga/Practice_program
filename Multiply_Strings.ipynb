{
  "nbformat": 4,
  "nbformat_minor": 0,
  "metadata": {
    "colab": {
      "name": "Multiply Strings.ipynb",
      "provenance": [],
      "authorship_tag": "ABX9TyMJNdCiX+p7HbT+UVrPWxLf",
      "include_colab_link": true
    },
    "kernelspec": {
      "name": "python3",
      "display_name": "Python 3"
    },
    "language_info": {
      "name": "python"
    }
  },
  "cells": [
    {
      "cell_type": "markdown",
      "metadata": {
        "id": "view-in-github",
        "colab_type": "text"
      },
      "source": [
        "<a href=\"https://colab.research.google.com/github/keertanaganiga/Practice_program/blob/main/Multiply_Strings.ipynb\" target=\"_parent\"><img src=\"https://colab.research.google.com/assets/colab-badge.svg\" alt=\"Open In Colab\"/></a>"
      ]
    },
    {
      "cell_type": "code",
      "metadata": {
        "id": "y6Odb7OcTbRF"
      },
      "source": [
        "'''\n",
        "Given two non-negative integers num1 and num2 represented as strings, return the product of num1 and num2, also represented as a string.\n",
        "\n",
        "Note: You must not use any built-in BigInteger library or convert the inputs to integer directly.\n",
        "\n",
        "Example 1:\n",
        "\n",
        "Input: num1 = \"2\", num2 = \"3\"\n",
        "Output: \"6\"\n",
        "\n",
        "Example 2:\n",
        "\n",
        "Input: num1 = \"123\", num2 = \"456\"\n",
        "Output: \"56088\"\n",
        "\n",
        "'''\n",
        "class Solution(object):\n",
        "    def multiply(self, num1, num2):\n",
        "        n=int(num1)\n",
        "        m=int(num2)\n",
        "        return str(n*m)\n",
        "        \n"
      ],
      "execution_count": 1,
      "outputs": []
    }
  ]
}