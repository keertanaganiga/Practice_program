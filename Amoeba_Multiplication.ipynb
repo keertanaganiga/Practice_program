{
  "nbformat": 4,
  "nbformat_minor": 0,
  "metadata": {
    "colab": {
      "name": "Amoeba Multiplication.ipynb",
      "provenance": [],
      "authorship_tag": "ABX9TyPHcDv7Py0yijST5COHkKHJ",
      "include_colab_link": true
    },
    "kernelspec": {
      "name": "python3",
      "display_name": "Python 3"
    },
    "language_info": {
      "name": "python"
    }
  },
  "cells": [
    {
      "cell_type": "markdown",
      "metadata": {
        "id": "view-in-github",
        "colab_type": "text"
      },
      "source": [
        "<a href=\"https://colab.research.google.com/github/keertanaganiga/Practice_program/blob/main/Amoeba_Multiplication.ipynb\" target=\"_parent\"><img src=\"https://colab.research.google.com/assets/colab-badge.svg\" alt=\"Open In Colab\"/></a>"
      ]
    },
    {
      "cell_type": "code",
      "metadata": {
        "id": "qvIYF9uqlu3E"
      },
      "source": [
        "'''\n",
        "Amoeba Multiplication\n",
        "The environmental eco club has discovered a new Amoeba that grows in the order of a Fibonacci series every month. They are exhibiting their amoeba in a national conference. They want to know the size of the amoeba at a particular time instant. If a particular month’s index is given, write a program to displays the amoeba’s size……??? For Example, The size of the amoeba on month 1, 2, 3, 4, 5, 6, ..will be 0, 1, 1, 2, 3, 5, 8 respectively.\n",
        "\n",
        "Input format:\n",
        "\n",
        "The first input containing an integer which denotes the number of the month\n",
        "\n",
        "Output format:\n",
        "\n",
        "Print the amoeba size. Refer the sample output for formatting.\n",
        "\n",
        "Sample Input:\n",
        "\n",
        "7\n",
        "\n",
        "Sample Output:\n",
        "\n",
        "8\n",
        "\n",
        "'''\n",
        "\n",
        "\n",
        "n=int(input())\n",
        "fib1,fib2=0,1\n",
        "count=0\n",
        "if n<0:\n",
        "  print(\"Enter valid input\")\n",
        "elif n==1:\n",
        "  print(fib1)\n",
        "else:\n",
        "  while count<n:\n",
        "    fib=fib1+fib2\n",
        "    fib1=fib2\n",
        "    fib2=fib\n",
        "    count+=1\n",
        "  print(fib2-fib1)\n",
        "   \n"
      ],
      "execution_count": null,
      "outputs": []
    }
  ]
}