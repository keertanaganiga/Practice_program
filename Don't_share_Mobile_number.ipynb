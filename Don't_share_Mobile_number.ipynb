{
  "nbformat": 4,
  "nbformat_minor": 0,
  "metadata": {
    "colab": {
      "name": "Don't share Mobile number.ipynb",
      "provenance": [],
      "authorship_tag": "ABX9TyNb7n7e+QkfGweGAP8gMvTY",
      "include_colab_link": true
    },
    "kernelspec": {
      "name": "python3",
      "display_name": "Python 3"
    },
    "language_info": {
      "name": "python"
    }
  },
  "cells": [
    {
      "cell_type": "markdown",
      "metadata": {
        "id": "view-in-github",
        "colab_type": "text"
      },
      "source": [
        "<a href=\"https://colab.research.google.com/github/keertanaganiga/Practice_program/blob/main/Don't_share_Mobile_number.ipynb\" target=\"_parent\"><img src=\"https://colab.research.google.com/assets/colab-badge.svg\" alt=\"Open In Colab\"/></a>"
      ]
    },
    {
      "cell_type": "code",
      "metadata": {
        "colab": {
          "base_uri": "https://localhost:8080/"
        },
        "id": "at8wf4kMF-NS",
        "outputId": "73d5429e-d6fc-48f4-c00d-6f921602a6b8"
      },
      "source": [
        "'''\n",
        "Don't share Mobile number\n",
        "In a college mobile phones are restricted. No one should share their mobile number with anyone. But still, several students are sharing their mobile numbers through college chat messenger not directly but in a tricky way. Information from intelligence says that students are sharing their number in between a huge sentence by two 3 digit numbers followed by two 2 digit numbers separated by any single character. The college want's to find the culprits. Write a program to extract mobile numbers in the mentioned format. See the sample input for a better understanding.\n",
        "\n",
        "\n",
        "\n",
        "Sample Input:\n",
        "\n",
        "Hi I am Vishwa and I can not 979s876m99m00 number\n",
        "\n",
        "Sample Output:\n",
        "\n",
        "Nummber Shared\n",
        "\n",
        "\n",
        "'''\n",
        "import re\n",
        "text=input()\n",
        "x=re.search(r'\\d+',text)\n",
        "if x:\n",
        "  print(\"Number Shared\")\n",
        "else:\n",
        "  print(\"Number Not Shared\")"
      ],
      "execution_count": 1,
      "outputs": [
        {
          "output_type": "stream",
          "text": [
            "Hi I am Vishwa and I can not 979s876m99m00 number\n",
            "Number Shared\n"
          ],
          "name": "stdout"
        }
      ]
    }
  ]
}