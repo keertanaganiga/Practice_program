{
  "nbformat": 4,
  "nbformat_minor": 0,
  "metadata": {
    "colab": {
      "name": "ADp_28_nov_2020",
      "provenance": [],
      "authorship_tag": "ABX9TyMbU+nhHnOqpdP1n7971HHz",
      "include_colab_link": true
    },
    "kernelspec": {
      "name": "python3",
      "display_name": "Python 3"
    }
  },
  "cells": [
    {
      "cell_type": "markdown",
      "metadata": {
        "id": "view-in-github",
        "colab_type": "text"
      },
      "source": [
        "<a href=\"https://colab.research.google.com/github/keertanaganiga/Practice_program/blob/main/ADp_28_nov_2020.ipynb\" target=\"_parent\"><img src=\"https://colab.research.google.com/assets/colab-badge.svg\" alt=\"Open In Colab\"/></a>"
      ]
    },
    {
      "cell_type": "code",
      "metadata": {
        "colab": {
          "base_uri": "https://localhost:8080/"
        },
        "id": "lQj_YGxNriCw",
        "outputId": "2c2b69e7-f533-44a7-cf13-650e2ed9fde9"
      },
      "source": [
        "'''\n",
        "WRITE PYTHON PROGRAM TO COMBINATION AND PERMUTATION WITHOUT USING BUILT IN FUNCTION\n",
        "'''\n",
        "\n",
        "def fact(a):\n",
        "  f=1\n",
        "  while(a!=0):\n",
        "    f=f*a\n",
        "    a=a-1\n",
        "  return f\n",
        "\n",
        "n=int(input(\"ENTER THE VALUE FOR N:\"))\n",
        "r=int(input(\"ENTER THE VALUE FOR R:\"))\n",
        "per=fact(n)/fact(n-r)\n",
        "print(\"THE PERMUTATION ANSWER:\",per)\n",
        "com=fact(n)/(fact(n-r)*fact(r))\n",
        "print(\"the combination anser is:\",com)"
      ],
      "execution_count": 1,
      "outputs": [
        {
          "output_type": "stream",
          "text": [
            "ENTER THE VALUE FOR N:4\n",
            "ENTER THE VALUE FOR R:3\n",
            "THE PERMUTATION ANSWER: 24.0\n",
            "the combination anser is: 4.0\n"
          ],
          "name": "stdout"
        }
      ]
    }
  ]
}