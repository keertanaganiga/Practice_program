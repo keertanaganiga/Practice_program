{
  "nbformat": 4,
  "nbformat_minor": 0,
  "metadata": {
    "colab": {
      "name": "Four musketeers.ipynb",
      "provenance": [],
      "authorship_tag": "ABX9TyNit7RXJsgB/Ey98UoyiWEE",
      "include_colab_link": true
    },
    "kernelspec": {
      "name": "python3",
      "display_name": "Python 3"
    },
    "language_info": {
      "name": "python"
    }
  },
  "cells": [
    {
      "cell_type": "markdown",
      "metadata": {
        "id": "view-in-github",
        "colab_type": "text"
      },
      "source": [
        "<a href=\"https://colab.research.google.com/github/keertanaganiga/Practice_program/blob/main/Four_musketeers.ipynb\" target=\"_parent\"><img src=\"https://colab.research.google.com/assets/colab-badge.svg\" alt=\"Open In Colab\"/></a>"
      ]
    },
    {
      "cell_type": "code",
      "metadata": {
        "colab": {
          "base_uri": "https://localhost:8080/"
        },
        "id": "gjrjnlB76D1c",
        "outputId": "0cd8d0d0-036f-47f3-f1e6-6561af91564c"
      },
      "source": [
        "'''\n",
        "Four musketeers\n",
        "Dhoni joined the group of 3 Musketeers and now their group is called four Musketeers. Meanwhile, Dhoni also moved to a new house in the same locality nearby to the other three. Currently, the houses of Sachin, Dravid and Ganguly are located in the shape of a triangle. When the three musketeers asked Dhoni about the location of his house, he said that his house is equidistant from the houses of the other 3. Can you please help them find out the location of the house? Given the 3 locations {(a1,b1), (a2,b2) and (a3,b3)} of a triangle, write a program to determine the point which is equidistant from all the 3 points.\n",
        "\n",
        "\n",
        "\n",
        "INPUT FORMAT:\n",
        "\n",
        "Input consists of 6 integers.\n",
        "\n",
        "The first integer corresponds to a1.\n",
        "\n",
        "The second integer corresponds to b1.\n",
        "\n",
        "The third and fourth integers correspond to a2 and b2 respectively.\n",
        "\n",
        "The fifth and sixth integers correspond to a3 and b3 respectively.\n",
        "\n",
        "\n",
        "\n",
        "OUTPUT FORMAT:\n",
        "\n",
        "The output consists of two floating point numbers which correspond to the location of the house.\n",
        "\n",
        "\n",
        "\n",
        "SAMPLE INPUT: \n",
        "\n",
        "2\n",
        "\n",
        "4\n",
        "\n",
        "10\n",
        "\n",
        "15\n",
        "\n",
        "5\n",
        "\n",
        "8 \n",
        "\n",
        "\n",
        "\n",
        "SAMPLE OUTPUT: \n",
        "\n",
        "5.66667\n",
        "\n",
        "9.0\n",
        "'''\n",
        "\n",
        "a1=int(input())\n",
        "b1=int(input())\n",
        "a2=int(input())\n",
        "b2=int(input())\n",
        "a3=int(input())\n",
        "b3=int(input())\n",
        "x=float((a1+a2+a3)/3);\n",
        "y=float((b1+b2+b3)/3);\n",
        "print(x)\n",
        "print(y)"
      ],
      "execution_count": 1,
      "outputs": [
        {
          "output_type": "stream",
          "text": [
            "2\n",
            "4\n",
            "10\n",
            "15\n",
            "5\n",
            "8\n",
            "5.666666666666667\n",
            "9.0\n"
          ],
          "name": "stdout"
        }
      ]
    }
  ]
}