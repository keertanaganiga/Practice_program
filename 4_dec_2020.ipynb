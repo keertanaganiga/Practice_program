{
  "nbformat": 4,
  "nbformat_minor": 0,
  "metadata": {
    "colab": {
      "name": "4 dec 2020",
      "provenance": [],
      "authorship_tag": "ABX9TyPXAUNptGL1hn6zC3O7iBgL",
      "include_colab_link": true
    },
    "kernelspec": {
      "name": "python3",
      "display_name": "Python 3"
    }
  },
  "cells": [
    {
      "cell_type": "markdown",
      "metadata": {
        "id": "view-in-github",
        "colab_type": "text"
      },
      "source": [
        "<a href=\"https://colab.research.google.com/github/keertanaganiga/Practice_program/blob/main/4_dec_2020.ipynb\" target=\"_parent\"><img src=\"https://colab.research.google.com/assets/colab-badge.svg\" alt=\"Open In Colab\"/></a>"
      ]
    },
    {
      "cell_type": "code",
      "metadata": {
        "colab": {
          "base_uri": "https://localhost:8080/"
        },
        "id": "wLsUK8Ceu5RB",
        "outputId": "4b1c0c63-daba-496f-f44c-ef93247984f2"
      },
      "source": [
        "'''\n",
        "program to search for phone number from given string\n",
        "'''\n",
        "import re\n",
        "s=\"my phone number is 7090671154,896768909,99016976,8976453456\"\n",
        "p=\"\\d{10}\"\n",
        "x=re.findall(p,s)\n",
        "print(x)"
      ],
      "execution_count": 2,
      "outputs": [
        {
          "output_type": "stream",
          "text": [
            "['7090671154', '8976453456']\n"
          ],
          "name": "stdout"
        }
      ]
    },
    {
      "cell_type": "code",
      "metadata": {
        "colab": {
          "base_uri": "https://localhost:8080/"
        },
        "id": "bM8gOvGIvfLO",
        "outputId": "581bd35c-ede5-4b70-bb49-0a8d7cce0035"
      },
      "source": [
        "'''\n",
        "write a python program to identify adhar number\n",
        "'''\n",
        "import re\n",
        "\n",
        "s=\"my adhar number 7656 6789 4224\"\n",
        "p='\\d{4}\\s\\d{4}\\s\\d{4}'\n",
        "x=re.findall(p,s)\n",
        "print(x)"
      ],
      "execution_count": 5,
      "outputs": [
        {
          "output_type": "stream",
          "text": [
            "['7656 6789 4224']\n"
          ],
          "name": "stdout"
        }
      ]
    },
    {
      "cell_type": "code",
      "metadata": {
        "colab": {
          "base_uri": "https://localhost:8080/"
        },
        "id": "w276kiyLwcfA",
        "outputId": "2be83158-053b-421b-b79f-954bab24be1d"
      },
      "source": [
        "'''\n",
        "write program  to search a letter z in the given string.z should not be in start not even in end\n",
        "'''\n",
        "import re\n",
        "s=\"In zoo ooper watczhing the movie of zoo whzich is in zzopland shnz kefyugdu\"\n",
        "p='\\Bz\\B'\n",
        "x=re.findall(p,s)\n",
        "print(x)"
      ],
      "execution_count": 9,
      "outputs": [
        {
          "output_type": "stream",
          "text": [
            "['z', 'z', 'z']\n"
          ],
          "name": "stdout"
        }
      ]
    }
  ]
}