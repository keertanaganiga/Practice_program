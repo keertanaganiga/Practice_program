{
  "nbformat": 4,
  "nbformat_minor": 0,
  "metadata": {
    "colab": {
      "name": "05 dec 2020",
      "provenance": [],
      "authorship_tag": "ABX9TyOdvQVwPd4OyX1RafYlc5Gy",
      "include_colab_link": true
    },
    "kernelspec": {
      "name": "python3",
      "display_name": "Python 3"
    }
  },
  "cells": [
    {
      "cell_type": "markdown",
      "metadata": {
        "id": "view-in-github",
        "colab_type": "text"
      },
      "source": [
        "<a href=\"https://colab.research.google.com/github/keertanaganiga/Practice_program/blob/main/05_dec_2020.ipynb\" target=\"_parent\"><img src=\"https://colab.research.google.com/assets/colab-badge.svg\" alt=\"Open In Colab\"/></a>"
      ]
    },
    {
      "cell_type": "code",
      "metadata": {
        "colab": {
          "base_uri": "https://localhost:8080/"
        },
        "id": "bdtg4Nz4gknm",
        "outputId": "82dc74c5-b2c3-4ce7-8545-0e75d236fc88"
      },
      "source": [
        "'''\n",
        "program to search for a letter 'z' in the given string z should not be the starting character not even the ending character\n",
        "'''\n",
        "\n",
        "import re\n",
        "s='zookeeper watczhing zooz movzie in zoom app'\n",
        "p='\\Bz\\B'\n",
        "x=re.findall(p,s)\n",
        "print(x)"
      ],
      "execution_count": 3,
      "outputs": [
        {
          "output_type": "stream",
          "text": [
            "['z', 'z']\n"
          ],
          "name": "stdout"
        }
      ]
    },
    {
      "cell_type": "code",
      "metadata": {
        "colab": {
          "base_uri": "https://localhost:8080/"
        },
        "id": "6ZzsvCla_AZz",
        "outputId": "72e6947e-e4a9-4907-aa9e-72e39e8dfc96"
      },
      "source": [
        "import re\n",
        "p=input(\"Enter the password\")\n",
        "x=True\n",
        "while(x):\n",
        "  if (len(p)<6):\n",
        "    break\n",
        "  elif not re.search('[a-z]',p):\n",
        "    break\n",
        "  elif not re.search('[A-Z]',p):\n",
        "    break\n",
        "  elif not re.search('[0-9]',p):\n",
        "    break\n",
        "  elif not re.search('[#@$]',p):\n",
        "    break\n",
        "  elif re.search(\"\\s\",p):\n",
        "    break\n",
        "  else:\n",
        "    print(\"Valid password\")\n",
        "    x=False\n",
        "    break\n",
        "if x:\n",
        "  print(\"not a valid password\")"
      ],
      "execution_count": 7,
      "outputs": [
        {
          "output_type": "stream",
          "text": [
            "Enter the passwordAlvas@123\n",
            "Valid password\n"
          ],
          "name": "stdout"
        }
      ]
    }
  ]
}