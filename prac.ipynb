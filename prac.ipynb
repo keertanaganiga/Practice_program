{
  "nbformat": 4,
  "nbformat_minor": 0,
  "metadata": {
    "colab": {
      "name": "prac",
      "provenance": [],
      "collapsed_sections": [],
      "authorship_tag": "ABX9TyMydEIH8jf95MEw5MthY2E6",
      "include_colab_link": true
    },
    "kernelspec": {
      "name": "python3",
      "display_name": "Python 3"
    }
  },
  "cells": [
    {
      "cell_type": "markdown",
      "metadata": {
        "id": "view-in-github",
        "colab_type": "text"
      },
      "source": [
        "<a href=\"https://colab.research.google.com/github/keertanaganiga/Practice_program/blob/main/prac.ipynb\" target=\"_parent\"><img src=\"https://colab.research.google.com/assets/colab-badge.svg\" alt=\"Open In Colab\"/></a>"
      ]
    },
    {
      "cell_type": "code",
      "metadata": {
        "colab": {
          "base_uri": "https://localhost:8080/"
        },
        "id": "mrQfAcQg8DmY",
        "outputId": "80604e93-87ad-44b9-ac16-890e8ccae6e9"
      },
      "source": [
        "T=int(input())\r\n",
        "N,K=map(int,input().split())\r\n",
        "a=[]\r\n",
        "for i in range(N):\r\n",
        "  ele=int(input())\r\n",
        "  a.append(ele)\r\n",
        "print(*a)\r\n",
        "b=len(a)\r\n",
        "for j in range(K):\r\n",
        "  a[j+1]=a[j]\r\n",
        "  j+=1\r\n",
        "print(*a)"
      ],
      "execution_count": 22,
      "outputs": [
        {
          "output_type": "stream",
          "text": [
            "1\n",
            "5 2\n",
            "1\n",
            "2\n",
            "3\n",
            "4\n",
            "5\n",
            "1 2 3 4 5\n",
            "1 1 1 4 5\n"
          ],
          "name": "stdout"
        }
      ]
    }
  ]
}