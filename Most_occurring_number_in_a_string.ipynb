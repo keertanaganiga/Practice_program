{
  "nbformat": 4,
  "nbformat_minor": 0,
  "metadata": {
    "colab": {
      "name": "Most_occurring_number_in_a_string.ipynb",
      "provenance": [],
      "authorship_tag": "ABX9TyOf7L/bMBeA/lfIFN/kQKWp",
      "include_colab_link": true
    },
    "kernelspec": {
      "name": "python3",
      "display_name": "Python 3"
    },
    "language_info": {
      "name": "python"
    }
  },
  "cells": [
    {
      "cell_type": "markdown",
      "metadata": {
        "id": "view-in-github",
        "colab_type": "text"
      },
      "source": [
        "<a href=\"https://colab.research.google.com/github/keertanaganiga/Practice_program/blob/main/Most_occurring_number_in_a_string.ipynb\" target=\"_parent\"><img src=\"https://colab.research.google.com/assets/colab-badge.svg\" alt=\"Open In Colab\"/></a>"
      ]
    },
    {
      "cell_type": "code",
      "metadata": {
        "id": "4Vuj-lZFUYZo",
        "colab": {
          "base_uri": "https://localhost:8080/"
        },
        "outputId": "3c5a128e-4756-4960-9734-c9871b65704d"
      },
      "source": [
        "'''\n",
        "Most occurring number in a string\n",
        "Given string str, the task is to extract all the numbers from a string and find out the most occurring element of them using Regex Python.\n",
        "\n",
        "\n",
        "\n",
        "It is guaranteed that no two elements have the same frequency\n",
        "\n",
        "\n",
        "\n",
        "Sample Input:\n",
        "\n",
        "face55of55face4abc3dr2 \n",
        "\n",
        "Sample Output:\n",
        "\n",
        "55\n",
        "\n",
        "\n",
        "\n",
        "Sample Input:\n",
        "\n",
        "abcd1def2high2bnasvd3vjhd44\n",
        "\n",
        "Sample Output:\n",
        "\n",
        "'''\n",
        "\n",
        "import re\n",
        "from collections import Counter\n",
        "w=input()\n",
        "r=re.findall(r'[0-9]+',w)\n",
        "maxm=0\n",
        "maxe=0\n",
        "c=Counter(r)\n",
        "for i in list(c.keys()):\n",
        "  if c[i]>=maxm:\n",
        "    maxm=c[i]\n",
        "    maxe=int(i)\n",
        "print(maxe)"
      ],
      "execution_count": 1,
      "outputs": [
        {
          "output_type": "stream",
          "text": [
            "face55of55face4abc3dr2 \n",
            "55\n"
          ],
          "name": "stdout"
        }
      ]
    }
  ]
}