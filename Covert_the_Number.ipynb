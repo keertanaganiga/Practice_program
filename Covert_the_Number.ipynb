{
  "nbformat": 4,
  "nbformat_minor": 0,
  "metadata": {
    "colab": {
      "name": "Covert the Number.ipynb",
      "provenance": [],
      "authorship_tag": "ABX9TyNgxxVZRCE1R5uzDyMrBuge",
      "include_colab_link": true
    },
    "kernelspec": {
      "name": "python3",
      "display_name": "Python 3"
    },
    "language_info": {
      "name": "python"
    }
  },
  "cells": [
    {
      "cell_type": "markdown",
      "metadata": {
        "id": "view-in-github",
        "colab_type": "text"
      },
      "source": [
        "<a href=\"https://colab.research.google.com/github/keertanaganiga/Practice_program/blob/main/Covert_the_Number.ipynb\" target=\"_parent\"><img src=\"https://colab.research.google.com/assets/colab-badge.svg\" alt=\"Open In Colab\"/></a>"
      ]
    },
    {
      "cell_type": "code",
      "metadata": {
        "id": "-15X8V5sx07n"
      },
      "source": [
        "'''\n",
        "Covert the Number\n",
        "You are provided with a 10 digit phone number. You are requested to convert this 10 digit number to US format using RegEx in python.\n",
        "\n",
        "Sample Input:\n",
        "\n",
        "321-963-0612\n",
        "\n",
        "Sample Output:\n",
        "\n",
        "(321) 963-0612\n",
        "'''\n",
        "\n",
        "import re\n",
        "s=input()\n",
        "x=re.findall(r'[0-3][0-3][0-3]',s)\n",
        "y=re.sub(r'(?<!\\S)(\\d{3})-', r'(\\1) ',s) \n",
        "print(y)"
      ],
      "execution_count": null,
      "outputs": []
    }
  ]
}