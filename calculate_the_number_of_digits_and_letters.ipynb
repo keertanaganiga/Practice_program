{
  "nbformat": 4,
  "nbformat_minor": 0,
  "metadata": {
    "colab": {
      "name": "calculate the number of digits and letters.ipynb",
      "provenance": [],
      "authorship_tag": "ABX9TyMBxTpR2NodXyPtYgMCxk/7",
      "include_colab_link": true
    },
    "kernelspec": {
      "name": "python3",
      "display_name": "Python 3"
    },
    "language_info": {
      "name": "python"
    }
  },
  "cells": [
    {
      "cell_type": "markdown",
      "metadata": {
        "id": "view-in-github",
        "colab_type": "text"
      },
      "source": [
        "<a href=\"https://colab.research.google.com/github/keertanaganiga/Practice_program/blob/main/calculate_the_number_of_digits_and_letters.ipynb\" target=\"_parent\"><img src=\"https://colab.research.google.com/assets/colab-badge.svg\" alt=\"Open In Colab\"/></a>"
      ]
    },
    {
      "cell_type": "code",
      "metadata": {
        "colab": {
          "base_uri": "https://localhost:8080/"
        },
        "id": "5vUIciB634Xf",
        "outputId": "10e4b84d-866e-4fbb-e1e6-12d0f0664770"
      },
      "source": [
        "'''\n",
        "calculate the number of digits and letters\n",
        "Write a Python program that accepts a string and calculate the number of digits and letters.\n",
        "\n",
        "Sample Input:\n",
        "\n",
        "face360\n",
        "\n",
        "Sample Output:\n",
        "\n",
        "Letters 4\n",
        "\n",
        "Digits 3\n",
        "\n",
        "\n",
        "'''\n",
        "s=input()\n",
        "d=0\n",
        "l=0\n",
        "for i in s:\n",
        "  if i.isalpha():\n",
        "    l+=1\n",
        "  if i.isdigit():\n",
        "    d+=1\n",
        "print(\"Letters {}\".format(l))    \n",
        "print(\"Digits {}\".format(d))    "
      ],
      "execution_count": 1,
      "outputs": [
        {
          "output_type": "stream",
          "text": [
            "face360\n",
            "Letters 4\n",
            "Digits 3\n"
          ],
          "name": "stdout"
        }
      ]
    }
  ]
}