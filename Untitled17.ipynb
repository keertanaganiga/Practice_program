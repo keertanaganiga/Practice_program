{
  "nbformat": 4,
  "nbformat_minor": 0,
  "metadata": {
    "colab": {
      "name": "Untitled17.ipynb",
      "provenance": [],
      "authorship_tag": "ABX9TyM/2wk4MHxm/L+6due2Fq05",
      "include_colab_link": true
    },
    "kernelspec": {
      "name": "python3",
      "display_name": "Python 3"
    },
    "language_info": {
      "name": "python"
    }
  },
  "cells": [
    {
      "cell_type": "markdown",
      "metadata": {
        "id": "view-in-github",
        "colab_type": "text"
      },
      "source": [
        "<a href=\"https://colab.research.google.com/github/keertanaganiga/Practice_program/blob/main/Untitled17.ipynb\" target=\"_parent\"><img src=\"https://colab.research.google.com/assets/colab-badge.svg\" alt=\"Open In Colab\"/></a>"
      ]
    },
    {
      "cell_type": "code",
      "metadata": {
        "colab": {
          "base_uri": "https://localhost:8080/"
        },
        "id": "8omRtu52mB0r",
        "outputId": "9b62949a-ada2-404d-cac6-d4d4ed35d5dc"
      },
      "source": [
        "'''\n",
        "Factorial\n",
        "Write a program to determine whether 'n' is a factorial number or not. Factorial of a number is the product of all positive numbers from 1 to 'n'.\n",
        "\n",
        "Input format:\n",
        "\n",
        "The input containing an integer 'n' which denotes the given number.\n",
        "\n",
        "Output format:\n",
        "\n",
        "If the given number is factorial, print \"Yes\". Otherwise, print \"No\". Refer the sample output for formatting.\n",
        "\n",
        "Sample Input:\n",
        "\n",
        "6\n",
        "\n",
        "Sample Output:\n",
        "\n",
        "Yes\n",
        "'''\n",
        "\n",
        "n=int(input())\n",
        "fact=1\n",
        "for i in range(1,n):\n",
        "  if n%i==0:\n",
        "    n/=i\n",
        "  else:\n",
        "    break;\n",
        "if n==1:\n",
        "  print(\"Yes\")\n",
        "else:\n",
        "  print(\"No\")"
      ],
      "execution_count": 1,
      "outputs": [
        {
          "output_type": "stream",
          "text": [
            "6\n",
            "Yes\n"
          ],
          "name": "stdout"
        }
      ]
    }
  ]
}